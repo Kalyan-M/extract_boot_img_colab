{
  "nbformat": 4,
  "nbformat_minor": 0,
  "metadata": {
    "colab": {
      "name": "Proton_boot_img.ipynb",
      "provenance": [],
      "authorship_tag": "ABX9TyOpI/ZZTpS1waN4RLeAXtTI",
      "include_colab_link": true
    },
    "kernelspec": {
      "name": "python3",
      "display_name": "Python 3"
    },
    "language_info": {
      "name": "python"
    }
  },
  "cells": [
    {
      "cell_type": "markdown",
      "metadata": {
        "id": "view-in-github",
        "colab_type": "text"
      },
      "source": [
        "<a href=\"https://colab.research.google.com/github/Kalyan-M/extract_boot_img_colab/blob/main/Proton_boot_img.ipynb\" target=\"_parent\"><img src=\"https://colab.research.google.com/assets/colab-badge.svg\" alt=\"Open In Colab\"/></a>"
      ]
    },
    {
      "cell_type": "code",
      "metadata": {
        "id": "dylr9xr_g77o"
      },
      "source": [
        "#@title Download and extract rom.zip with payload.bin\n",
        "#@markdown Input download link\n",
        "rom_url = 'https://github.com/ProtonAOSP/android_device_google_wahoo/releases/download/v11.4.0/proton-aosp_walleye-ota_11.4.0-gapps.zip'  #@param {type: \"string\"}\n",
        "#@markdown ---\n",
        "\n",
        "!wget -O rom.zip \"$rom_url\"\n",
        "!git clone https://github.com/cyxx/extract_android_ota_payload.git\n",
        "!mkdir -p extract\n",
        "!python extract_android_ota_payload/extract_android_ota_payload.py rom.zip ./extract"
      ],
      "execution_count": null,
      "outputs": []
    },
    {
      "cell_type": "code",
      "metadata": {
        "id": "eLLqwnSkll_O"
      },
      "source": [
        "#@title Copy boot.img to google drive\n",
        "#@markdown Input dir name to save boot img in\n",
        "dir_name = 'proton/11.4.0'  #@param {type: \"string\"}\n",
        "#@markdown ---\n",
        "\n",
        "from google.colab import drive\n",
        "drive.mount('/gdrive')\n",
        "\n",
        "!mkdir -p /gdrive/MyDrive/\"$dir_name\"\n",
        "!cp boot.img /gdrive/MyDrive/\"$dir_name\"\n",
        "print(Bingo!)"
      ],
      "execution_count": null,
      "outputs": []
    }
  ]
}
